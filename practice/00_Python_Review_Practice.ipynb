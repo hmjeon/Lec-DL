{
 "cells": [
  {
   "cell_type": "markdown",
   "metadata": {
    "id": "p9JJVuZAJSbq"
   },
   "source": [
    "### <b>1강 파이썬(Python) 온라인 개발 환경</b>\n",
    "\n",
    "* <b>개발 환경</b>: 코딩, 디버깅, 배포 등 <b>프로그램을 개발하는 일련의 과정을 하나의 프로그램 안에서 수행</b>할 수 있도록 해주는 통합적인 환경\n",
    "* 온라인 개발 환경은 <b>웹 브라우저</b>만 있으면 사용할 수 있다는 점에서 편리하게 사용할 수 있다.\n",
    "  * 간단한 프로그램을 작성하여 테스트할 때 유용하다.\n",
    "  * 프로그램 실행 결과를 저장할 때는 불편함이 있다."
   ]
  },
  {
   "cell_type": "markdown",
   "metadata": {
    "id": "2MJotMovJdtY"
   },
   "source": [
    "#### <b>1) Google Colab</b>\n",
    "\n",
    "* 구글(Google) 계정만 있다면 무료로 사용할 수 있는 개발 환경이다.\n",
    "* <b>Google Colab 시작하기</b>: https://colab.research.google.com/\n",
    "* [+코드] 버튼을 클릭하여 코드 셀을 추가하고, 파이썬 코드를 작성할 수 있다.\n",
    "* [Shift + Enter]를 입력하여 현재 코드 셀의 파이썬 코드를 실행할 수 있다."
   ]
  },
  {
   "cell_type": "markdown",
   "metadata": {
    "id": "dN0UXE8i0RcL"
   },
   "source": [
    "#### <b>2) Repl.it</b>\n",
    "\n",
    "* 무료로 사용할 수 있는 온라인 개발 환경 중 하나다.\n",
    "* <b>Repl.it 접속하기</b>: https://replit.com/\n",
    "* 새로운 프로젝트를 생성하여 개발을 진행할 수 있다.\n",
    "* Python GUI 개발 환경도 지원한다."
   ]
  },
  {
   "cell_type": "markdown",
   "metadata": {
    "id": "he6yXTOpJY4I"
   },
   "source": [
    "### <b>2강 파이썬(Python) 로컬 개발 환경</b>\n",
    "\n",
    "* 본격적으로 딥러닝 개발을 진행하기 위하여 <b>로컬 개발 환경</b>을 구축하는 방법에 대하여 이해할 필요가 있다.\n",
    "* 자신의 컴퓨터 환경에 맞게 파이썬 프로그래밍 언어를 설치해야 한다."
   ]
  },
  {
   "cell_type": "markdown",
   "metadata": {
    "id": "CsAA0NH0JcTo"
   },
   "source": [
    "#### <b>1) 파이썬(Python) 설치</b>\n",
    "\n",
    "* 파이썬이라는 프로그래밍 언어로 코딩을 하기 위해서는 파이썬을 설치해야 한다.\n",
    "* 파이썬(Python) 다운로드 경로: https://www.python.org/downloads/\n",
    "  * [Downloads] - [All releases] 페이지로 이동하여 구체적인 버전의 파이썬(Python)을 설치할 수 있다.\n",
    "* 설치 이후에 정상적으로 설치가 완료되었는지 확인하기 위해 명령 프롬프트(CMD)에서 python을 사용해 보자.\n",
    "\n",
    "<pre>\n",
    "python example.py\n",
    "</pre>"
   ]
  },
  {
   "cell_type": "markdown",
   "metadata": {
    "id": "1Luv1QbeJa34"
   },
   "source": [
    "#### <b>2) Visual Studio Code 설치</b>\n",
    "\n",
    "* Visual Studio Code는 파이썬을 포함한 다양한 프로그래밍 언어를 지원하며, 무료인 <b>개발 환경</b>이다.\n",
    "* Visual Studio Code 다운로드 경로: https://code.visualstudio.com/\n",
    "  * [Download for Windows] 버튼을 눌러 무료로 설치할 수 있다."
   ]
  },
  {
   "cell_type": "markdown",
   "metadata": {
    "id": "TV1UOWwuJdpB"
   },
   "source": [
    "#### <b>3) Visual Studio Code에서 개발 시작하기</b>\n",
    "\n",
    "* Visual Studio Code에서는 특정한 프로그래밍 언어를 이용해서 프로그램을 작성할 수 있다.\n",
    "* Python 확장 프로그램(Extensions)을 사용하면, 보다 풍부한 기능을 이용할 수 있다.\n",
    "* Visual Studio Code를 이용하여 코드를 작성해 보자.\n",
    "  1. Visual Studio Code의 터미널(terminal)을 이용하여 python을 사용해 보자.\n",
    "  2. Visual Studio Code에서 hello_world.py 파일을 생성하여 실행해 보자.\n",
    "\n",
    "<pre>\n",
    "print(\"Hello World\")\n",
    "</pre>"
   ]
  },
  {
   "cell_type": "markdown",
   "metadata": {
    "id": "NIKj4Lm5JjMK"
   },
   "source": [
    "### <b>3강 파이썬(Python) 기본 입출력</b>\n",
    "\n",
    "* 다양한 딥러닝 프로그램을 작성하기 위하여 <b>파이썬 문법</b>을 바르게 이해할 필요가 있다.\n",
    "* 가장 먼저 Python은 두 가지 형식의 입출력 방식을 제공한다.\n",
    "* <b>표준 입출력</b>\n",
    "  * 프로그램이 기본적으로 사용하는 입력 장치(키보드)과 출력 장치(모니터)를 통해 컴퓨터와 대화를 주고 받는 방식이다.\n",
    "  * 일반적으로 컴퓨터 프로그램을 작성할 때 사용한다.\n",
    "* <b>파일 입출력</b>\n",
    "  * 하드 디스크에 파일(file) 형태로 데이터를 저장하거나 읽는 방식이다.\n",
    "  * 프로그램이 꺼진 뒤에도 데이터가 저장된다.\n",
    "* 가장 먼저 표준 입출력(기본 입출력)에 대하여 이해할 필요가 있다."
   ]
  },
  {
   "cell_type": "markdown",
   "metadata": {
    "id": "T1U3IeOx62lk"
   },
   "source": [
    "#### <b>1) print()를 이용한 표준 출력</b>\n",
    "\n",
    "* <b>print(값)</b>: 원하는 값을 출력할 수 있다.\n",
    "* <b>print(값 1, 값 2, ...)</b>: 여러 개의 값을 공백을 기준으로 구분하여 출력할 수 있다.\n",
    "  * <b>end 속성</b>: 마지막 문자열을 출력하고 출력할 문자 (초기 설정: 줄바꿈 문자)\n",
    "  * <b>sep 속성</b>: 여러 변수를 출력할 때, 각 값을 구분하기 위한 문자 (초기 설정: 공백 문자)"
   ]
  },
  {
   "cell_type": "code",
   "execution_count": null,
   "metadata": {
    "colab": {
     "base_uri": "https://localhost:8080/"
    },
    "id": "8HCevuPY8PIp",
    "outputId": "396b57ae-a899-4097-b473-5188cc19abdc"
   },
   "outputs": [],
   "source": []
  },
  {
   "cell_type": "code",
   "execution_count": null,
   "metadata": {
    "colab": {
     "base_uri": "https://localhost:8080/"
    },
    "id": "4nOiuqLPoRbw",
    "outputId": "62e36d6b-b82e-4277-ffc8-54f20b7e7585"
   },
   "outputs": [],
   "source": []
  },
  {
   "cell_type": "code",
   "execution_count": null,
   "metadata": {
    "colab": {
     "base_uri": "https://localhost:8080/"
    },
    "id": "wr3-Pn779e8T",
    "outputId": "f0babf81-9348-4e49-a737-3583a2fe1796"
   },
   "outputs": [],
   "source": []
  },
  {
   "cell_type": "markdown",
   "metadata": {
    "id": "FtlW3o_obBbq"
   },
   "source": [
    "* 파이썬에서는 f-string을 사용하면 원하는 형태에 맞게 간단히 문자열을 출력할 수 있다."
   ]
  },
  {
   "cell_type": "code",
   "execution_count": null,
   "metadata": {
    "colab": {
     "base_uri": "https://localhost:8080/"
    },
    "id": "I6tLUIeEbF2C",
    "outputId": "b451162c-3c93-4838-ec0f-285e996145a9"
   },
   "outputs": [],
   "source": []
  },
  {
   "cell_type": "markdown",
   "metadata": {
    "id": "GS3iEJv66hal"
   },
   "source": [
    "#### <b>2) input()을 이용한 표준 입력</b>\n",
    "\n",
    "* <b>input()</b>: 키보드(표준 입력장치)로부터 문자열을 입력 받는다.\n",
    "* <b>input(\"문자열\")</b>: 안내 메시지(문자열)을 출력하고, 키보드로부터 문자열을 입력 받는다.\n",
    "* 사용자에게 입력받은 정보를 정수 형태로 처리하기 위하여 <b>int() 함수</b>를 함께 사용할 수 있다.\n",
    "* 일반적으로 프로그램은 사용자의 입력에 따라서 적절한 결과를 뱉는 방식으로 동작한다.\n",
    "  * 따라서 입력을 처리하기 위한 input() 함수는 매우 중요하다."
   ]
  },
  {
   "cell_type": "code",
   "execution_count": null,
   "metadata": {},
   "outputs": [],
   "source": []
  },
  {
   "cell_type": "code",
   "execution_count": null,
   "metadata": {},
   "outputs": [],
   "source": []
  },
  {
   "cell_type": "code",
   "execution_count": null,
   "metadata": {},
   "outputs": [],
   "source": []
  },
  {
   "cell_type": "markdown",
   "metadata": {
    "id": "Og6LrqV--CoH"
   },
   "source": [
    "### <b>4강 파이썬(Python) 수 자료형</b>\n",
    "\n",
    "* Python은 다양한 수 데이터(정수, 실수 등)를 처리하기 위한 문법을 제공한다.\n",
    "* 변수와 상수의 개념을 이해한 뒤에, 수 데이터를 처리해 보자.\n",
    "* 기본적인 사칙 연산을 진행할 수 있다."
   ]
  },
  {
   "cell_type": "markdown",
   "metadata": {
    "id": "vbvdjFkPJnKC"
   },
   "source": [
    "#### <b>1) 변수와 상수</b>\n",
    "\n",
    "* <b>변수</b>: 어떠한 값을 담을 수 있는 그릇이다.\n",
    "* 변수에 값을 넣을 때는 등호(=)를 사용한다."
   ]
  },
  {
   "cell_type": "code",
   "execution_count": null,
   "metadata": {
    "colab": {
     "base_uri": "https://localhost:8080/"
    },
    "id": "vj1SkAQmJMlS",
    "outputId": "62bc464a-0cca-4db3-a630-3a4b9d882c98"
   },
   "outputs": [],
   "source": []
  },
  {
   "cell_type": "markdown",
   "metadata": {
    "id": "nq_bixzIJylR"
   },
   "source": [
    "* <b>변수</b>에 저장된 값을 변경할 수 있다."
   ]
  },
  {
   "cell_type": "code",
   "execution_count": null,
   "metadata": {
    "colab": {
     "base_uri": "https://localhost:8080/"
    },
    "id": "1yANMDxdJMnQ",
    "outputId": "40557472-cee3-4484-95cc-0e65510e3659"
   },
   "outputs": [],
   "source": []
  },
  {
   "cell_type": "markdown",
   "metadata": {
    "id": "52vV94_iJ33h"
   },
   "source": [
    "* <b>상수</b>: 특정한 수를 그대로 사용하면 그 자체로 상수가 된다."
   ]
  },
  {
   "cell_type": "code",
   "execution_count": null,
   "metadata": {
    "colab": {
     "base_uri": "https://localhost:8080/"
    },
    "id": "l3UUg0-PJ5F4",
    "outputId": "0530965c-cdd0-4280-d628-a4d9246c3539"
   },
   "outputs": [],
   "source": []
  },
  {
   "cell_type": "markdown",
   "metadata": {
    "id": "6D8oDCml_cKm"
   },
   "source": [
    "#### <b>2) 정수 데이터</b>\n",
    "\n",
    "* Python은 정수 데이터를 지원한다.\n",
    "* 여러 개의 수에 대하여 연산을 수행할 수 있다.\n",
    "* 양의 정수, 0, 음의 정수로 구성되며, 소수점 이하 값이 없다.\n",
    "* Python은 컴퓨터의 메모리가 허용하는 한, 정수 데이터에 크기 제한이 없다."
   ]
  },
  {
   "cell_type": "code",
   "execution_count": null,
   "metadata": {
    "colab": {
     "base_uri": "https://localhost:8080/"
    },
    "id": "9hAUqb-M_fFT",
    "outputId": "93eb7ff4-9ef3-4550-b70c-ecef7fbf4d1a"
   },
   "outputs": [],
   "source": []
  },
  {
   "cell_type": "markdown",
   "metadata": {
    "id": "YGhknScvpGkD"
   },
   "source": [
    "#### <b>3) 실수 데이터</b>\n",
    "\n",
    "* 실수 데이터는 소수점 이하 값을 포함하는 데이터다.\n",
    "* Python은 실수 데이터를 지원한다.\n",
    "* 실수 데이터와 정수 데이터 사이에서 연산을 수행하는 경우, 데이터의 <b>형 변환(정수 → 실수)</b>이 일어난다."
   ]
  },
  {
   "cell_type": "code",
   "execution_count": null,
   "metadata": {
    "colab": {
     "base_uri": "https://localhost:8080/"
    },
    "id": "dxTykWPdpXqh",
    "outputId": "f63ed8e8-c44e-4e8b-9c9f-abe44044f56b"
   },
   "outputs": [],
   "source": []
  },
  {
   "cell_type": "markdown",
   "metadata": {
    "id": "iW9b0pDWJ6B6"
   },
   "source": [
    "#### <b>4) 사칙연산</b>\n",
    "\n",
    "* 파이썬은 프로그래밍 언어이기 때문에, 말 그대로 계산기 목적으로 사용할 수 있다.\n",
    "* 사칙연산: +, -, *, /\n",
    "* 몫 연산자: //\n",
    "* 나머지 연산자: %\n",
    "* 제곱 연산자: **"
   ]
  },
  {
   "cell_type": "code",
   "execution_count": null,
   "metadata": {
    "colab": {
     "base_uri": "https://localhost:8080/"
    },
    "id": "rLJYn1NgJ7KP",
    "outputId": "394ea71e-ec92-482a-ef3f-8c21e68f441f"
   },
   "outputs": [],
   "source": []
  },
  {
   "cell_type": "markdown",
   "metadata": {
    "id": "B8nfQEJkKCd5"
   },
   "source": [
    "### <b>5강 파이썬(Python) 문자열 자료형</b>\n",
    "\n",
    "* Python은 문자열 데이터를 표현하기 위한 문법을 제공한다.\n",
    "* 파이썬에서 문자열을 사용할 때는 <b>작은따옴표</b>나 <b>큰따옴표</b>를 사용한다. "
   ]
  },
  {
   "cell_type": "code",
   "execution_count": null,
   "metadata": {
    "colab": {
     "base_uri": "https://localhost:8080/"
    },
    "id": "Tn9SB8FIKDsx",
    "outputId": "2831ef87-d5da-445a-ba62-e3e89591f403"
   },
   "outputs": [],
   "source": []
  },
  {
   "cell_type": "markdown",
   "metadata": {
    "id": "adXtzr5wKGqJ"
   },
   "source": [
    "* 문자열끼리의 <b>덧셈</b>이 가능하다.\n",
    "* 문자열끼리 덧셈을 수행하면, 단순히 <b>두 문자열이 연결</b>된다."
   ]
  },
  {
   "cell_type": "code",
   "execution_count": null,
   "metadata": {
    "colab": {
     "base_uri": "https://localhost:8080/"
    },
    "id": "lkYr1rp_KH8x",
    "outputId": "75b3019d-db40-4c45-cefd-ab3672a13988"
   },
   "outputs": [],
   "source": []
  },
  {
   "cell_type": "markdown",
   "metadata": {
    "id": "2wB6gTREKIyx"
   },
   "source": [
    "* 문자열 안에서 큰따옴표나 작은따옴표를 출력해야 한다면 이스케이핑을 사용할 수 있다.\n",
    "    * 역 슬래시(\\\\) 기호를 이용할 수 있다."
   ]
  },
  {
   "cell_type": "code",
   "execution_count": null,
   "metadata": {
    "colab": {
     "base_uri": "https://localhost:8080/"
    },
    "id": "uPnKkyX6KJpp",
    "outputId": "abecdfc6-5379-4587-d8a8-831a9c8353d7"
   },
   "outputs": [],
   "source": []
  },
  {
   "cell_type": "markdown",
   "metadata": {
    "id": "cSZYmol0qk2A"
   },
   "source": [
    "* 일반적으로 많이 사용되는 <b>이스케이프(escape) 문자</b>로는 다음과 같은 것들이 있다.\n",
    "  * <b>\\\\\"</b>: 큰따옴표를 출력한다.\n",
    "  * <b>\\\\'</b>: 작은따옴표를 출력한다.\n",
    "  * <b>\\\\n</b>: 줄바꿈(new line) 문자를 출력한다.\n",
    "  * <b>\\\\t</b>: 탭(tab) 문자를 출력한다.\n",
    "  * <b>\\\\\\\\</b>: 백슬래시(backslash) 문자를 출력한다."
   ]
  },
  {
   "cell_type": "code",
   "execution_count": null,
   "metadata": {
    "colab": {
     "base_uri": "https://localhost:8080/"
    },
    "id": "4XkzwctgxDic",
    "outputId": "42f4347b-598d-4cb0-84c1-d0a6cd5d62c2"
   },
   "outputs": [],
   "source": []
  },
  {
   "cell_type": "markdown",
   "metadata": {
    "id": "OmuXf5JKKLdI"
   },
   "source": [
    "* <b>문자열 인덱싱(indexing)</b>: 문자열에 포함된 특정한 하나의 문자를 얻을 수 있다.\n",
    "    * 첫 번째 문자는 인덱스 0에 해당한다."
   ]
  },
  {
   "cell_type": "code",
   "execution_count": null,
   "metadata": {
    "colab": {
     "base_uri": "https://localhost:8080/"
    },
    "id": "l-FkbO4hKMi6",
    "outputId": "bff7c30a-8921-401c-d945-014014b41fff"
   },
   "outputs": [],
   "source": []
  },
  {
   "cell_type": "markdown",
   "metadata": {
    "id": "2fnnfx75KN35"
   },
   "source": [
    "* <b>문자열 슬라이싱(slicing)</b>: 부분 문자열(substring)을 얻기 위해 사용한다.\n",
    "    * 슬라이싱은 두 개의 인덱스로 구성되는데, <b>변수명[시작 인덱스:끝 인덱스]</b>의 형태를 가진다."
   ]
  },
  {
   "cell_type": "code",
   "execution_count": null,
   "metadata": {
    "colab": {
     "base_uri": "https://localhost:8080/"
    },
    "id": "IYj4I0xGKON0",
    "outputId": "2e5d5702-d95b-4144-c4de-f2943fd6b3f6"
   },
   "outputs": [],
   "source": []
  },
  {
   "cell_type": "code",
   "execution_count": null,
   "metadata": {
    "colab": {
     "base_uri": "https://localhost:8080/"
    },
    "id": "Ukn4pT1IKQNJ",
    "outputId": "5856fbdc-d041-412c-d563-6992df75e1b9"
   },
   "outputs": [],
   "source": []
  },
  {
   "cell_type": "markdown",
   "metadata": {
    "id": "-xV3khxPKR6C"
   },
   "source": [
    "* 문자열 인덱싱을 할 때는 범위를 벗어나는 경우 오류가 발생하지만, 슬라이싱의 경우 부드럽게 처리된다."
   ]
  },
  {
   "cell_type": "code",
   "execution_count": null,
   "metadata": {
    "colab": {
     "base_uri": "https://localhost:8080/"
    },
    "id": "l0dB1OYmKSIx",
    "outputId": "52a2f627-8551-4d5d-aa0a-60e1c86c781b"
   },
   "outputs": [],
   "source": []
  },
  {
   "cell_type": "markdown",
   "metadata": {
    "id": "dtKSTP47KUby"
   },
   "source": [
    "* 파이썬에서 문자열은 값을 변경할 수 없기 때문에, 불변(immutable) 객체라고도 한다."
   ]
  },
  {
   "cell_type": "code",
   "execution_count": null,
   "metadata": {
    "id": "MH2ENaijKVPy"
   },
   "outputs": [],
   "source": []
  },
  {
   "cell_type": "markdown",
   "metadata": {
    "id": "-iKjNq3dKWaJ"
   },
   "source": [
    "### <b>6강 파이썬(Python) 리스트 자료형과 튜플 자료형</b>\n",
    "\n",
    "* 프로그램을 작성할 때는 단순히 한두 개의 변수만 사용하는 것이 아니라, 매우 많은 양의 변수를 다루어야 할 수 있다.\n",
    "  * 학생 관리 프로그램에서 처리해야 하는 학생의 수가 100만 명이라면?"
   ]
  },
  {
   "cell_type": "markdown",
   "metadata": {
    "id": "RRgQbAuzl_bk"
   },
   "source": [
    "#### <b>1) 리스트 자료형</b>\n",
    "\n",
    "* 리스트는 대괄호 안에 원소들을 쉼표로 구분하여 넣을 수 있다."
   ]
  },
  {
   "cell_type": "code",
   "execution_count": null,
   "metadata": {
    "colab": {
     "base_uri": "https://localhost:8080/"
    },
    "id": "fAkk3QEWKXyS",
    "outputId": "6d2df89d-6981-411c-cb7f-fa4d15cd7ade"
   },
   "outputs": [],
   "source": []
  },
  {
   "cell_type": "markdown",
   "metadata": {
    "id": "NywhMyT7Kkvh"
   },
   "source": [
    "* 일반적으로 리스트의 각 원소는 같은 자료형이도록 쓰지만, 서로 다른 자료형의 데이터가 들어갈 수 있다."
   ]
  },
  {
   "cell_type": "code",
   "execution_count": null,
   "metadata": {
    "colab": {
     "base_uri": "https://localhost:8080/"
    },
    "id": "ZvnLd2DdKla5",
    "outputId": "4c6d3a25-9285-4a87-cf5f-a00801a9d796"
   },
   "outputs": [],
   "source": []
  },
  {
   "cell_type": "markdown",
   "metadata": {
    "id": "3sUWSu-AKmOr"
   },
   "source": [
    "* 리스트에 대해서 인덱싱과 슬라이싱을 사용할 수 있다."
   ]
  },
  {
   "cell_type": "code",
   "execution_count": null,
   "metadata": {
    "colab": {
     "base_uri": "https://localhost:8080/"
    },
    "id": "n4fHl0jKKmhr",
    "outputId": "cd056d0b-65e7-4088-f518-5077fa65858f"
   },
   "outputs": [],
   "source": []
  },
  {
   "cell_type": "markdown",
   "metadata": {
    "id": "s-UAcITwKnqJ"
   },
   "source": [
    "* <b>리스트 덧셈</b>: 리스트끼리 더할 수 있는데, 이때는 단순히 두 리스트를 이어 붙인 결과가 반환된다."
   ]
  },
  {
   "cell_type": "code",
   "execution_count": null,
   "metadata": {
    "colab": {
     "base_uri": "https://localhost:8080/"
    },
    "id": "Y1-4FIvbKorT",
    "outputId": "e580bb0d-d8db-4b91-9ae8-f673f605094c"
   },
   "outputs": [],
   "source": []
  },
  {
   "cell_type": "markdown",
   "metadata": {
    "id": "ZBzCDvqqKpfx"
   },
   "source": [
    "* <b>리스트 중첩</b>: 리스트는 다중(2중, 3중 등)으로 중첩하여 사용할 수 있다."
   ]
  },
  {
   "cell_type": "code",
   "execution_count": null,
   "metadata": {
    "colab": {
     "base_uri": "https://localhost:8080/"
    },
    "id": "2d3AIpJrKq55",
    "outputId": "21efd75a-f066-4a6b-dc08-9cc06e211ff9"
   },
   "outputs": [],
   "source": []
  },
  {
   "cell_type": "markdown",
   "metadata": {
    "id": "ZRVieFYWKqbp"
   },
   "source": [
    "* 문자열은 불변(immutable) 객체였지만, 리스트는 가변(mutable) 객체다."
   ]
  },
  {
   "cell_type": "code",
   "execution_count": null,
   "metadata": {
    "colab": {
     "base_uri": "https://localhost:8080/"
    },
    "id": "GA2te0LZKuz5",
    "outputId": "278960ef-a094-49e3-b91b-db2472d2b280"
   },
   "outputs": [],
   "source": []
  },
  {
   "cell_type": "markdown",
   "metadata": {
    "id": "gpKkBnnPJcZ9"
   },
   "source": [
    "* 리스트는 자주 사용되는 몇 가지 <b>메서드</b>를 제공한다.\n",
    "  * <b>insert(삽입할 인덱스, 삽입할 원소)</b>: 리스트에 원소를 삽입한다.\n",
    "  * <b>append(삽입할 원소)</b>: 리스트의 마지막 위치에 원소를 삽입한다.\n",
    "  * <b>remove(삭제할 원소)</b>: 리스트에서 특정한 값을 가지는 원소를 삭제한다.\n",
    "  * <b>sort()</b>: 리스트의 원소를 정렬한다."
   ]
  },
  {
   "cell_type": "code",
   "execution_count": null,
   "metadata": {
    "colab": {
     "base_uri": "https://localhost:8080/"
    },
    "id": "77ZtKBTzKPcz",
    "outputId": "8017c5e2-f0e6-4682-bd4f-4c670176a42f"
   },
   "outputs": [],
   "source": []
  },
  {
   "cell_type": "markdown",
   "metadata": {
    "id": "EqpJjeaXIoiW"
   },
   "source": [
    "* 리스트는 <b>추가(append) 메서드</b>를 제공한다."
   ]
  },
  {
   "cell_type": "code",
   "execution_count": null,
   "metadata": {
    "colab": {
     "base_uri": "https://localhost:8080/"
    },
    "id": "M0wqEjm6IroE",
    "outputId": "8f025fad-1076-4700-f67d-75842f4d9210"
   },
   "outputs": [],
   "source": []
  },
  {
   "cell_type": "markdown",
   "metadata": {
    "id": "ZTYjonuMI6cV"
   },
   "source": [
    "* 리스트의 <b>추가(append) 메서드</b>를 이용해 2차원 리스트를 생성할 수 있다."
   ]
  },
  {
   "cell_type": "code",
   "execution_count": null,
   "metadata": {
    "colab": {
     "base_uri": "https://localhost:8080/"
    },
    "id": "pUTwigfoI9ol",
    "outputId": "7c6d93a0-1e34-47bc-8714-c474d4bb7282"
   },
   "outputs": [],
   "source": []
  },
  {
   "cell_type": "markdown",
   "metadata": {
    "id": "GCHEr0irJ6Ha"
   },
   "source": [
    "* 파이썬에서 2차원 이상의 리스트를 초기화할 때는 <b>리스트 컴프리헨션(list comprehension)</b>을 사용한다."
   ]
  },
  {
   "cell_type": "code",
   "execution_count": null,
   "metadata": {
    "colab": {
     "base_uri": "https://localhost:8080/"
    },
    "id": "Waf7nofiJ6Z_",
    "outputId": "004517d4-698f-439d-da33-86161e2cba84"
   },
   "outputs": [],
   "source": []
  },
  {
   "cell_type": "markdown",
   "metadata": {
    "id": "mOMM4DZ6l4Vw"
   },
   "source": [
    "#### <b>2) 튜플 자료형</b>\n",
    "\n",
    "* 튜플(tuple) 자료형은 리스트와 유사하지만, 그 특징이 조금씩 다르다.\n",
    "  * 리스트는 <b>대괄호 []</b>를 이용하지만, 튜플은 <b>소괄호 ()</b>을 사용한다.\n",
    "  * 리스트는 값을 변경할 수 있지만, 튜플은 값을 변경할 수 없다.\n",
    "* 값이 변경되면 안 되는 경우, 튜플을 사용하면 효과적이다.\n",
    "* 관행적으로, 각 데이터의 성질이 다를 수 있을 때 일반적으로 튜플을 사용한다.\n",
    "  * 최단 경로 알고리즘에서 (비용, 노드 번호) 형태로 데이터를 묶어 사용하곤 한다."
   ]
  },
  {
   "cell_type": "code",
   "execution_count": null,
   "metadata": {
    "colab": {
     "base_uri": "https://localhost:8080/"
    },
    "id": "SxlAIfrOmUBX",
    "outputId": "cd091155-a356-4aa1-f7c3-3af32f7e7685"
   },
   "outputs": [],
   "source": []
  },
  {
   "cell_type": "markdown",
   "metadata": {
    "id": "i5bAhHLTKCpv"
   },
   "source": [
    "### <b>7강 파이썬(Python) 사전 자료형과 집합 자료형</b>\n",
    "\n",
    "* 특정한 원소의 존재 여부를 빠르게 확인하고 추가/삭제할 수 있다."
   ]
  },
  {
   "cell_type": "markdown",
   "metadata": {
    "id": "4XBleZ2dm1Jw"
   },
   "source": [
    "#### <b>1) 사전(Dictionary) 자료형</b>\n",
    "\n",
    "* 데이터를 <b>키(key)와 값(value) 쌍의 형태</b>로 저장할 때 사용할 수 있다.\n",
    "* 다음과 같은 형태로 사전 자료형에 데이터를 기록할 수 있다.\n",
    "\n",
    "<pre>\n",
    "사전 데이터[키] = 값\n",
    "</pre>"
   ]
  },
  {
   "cell_type": "code",
   "execution_count": null,
   "metadata": {
    "colab": {
     "base_uri": "https://localhost:8080/"
    },
    "id": "Ra9qquMyLkZu",
    "outputId": "586396fa-ae47-4554-da7f-da9590e37798"
   },
   "outputs": [],
   "source": []
  },
  {
   "cell_type": "markdown",
   "metadata": {
    "id": "xkB2HqVQLkCD"
   },
   "source": [
    "* 모든 키(key)를 하나씩 확인할 때는 <b>keys() 메서드</b>를 사용할 수 있다."
   ]
  },
  {
   "cell_type": "code",
   "execution_count": null,
   "metadata": {
    "colab": {
     "base_uri": "https://localhost:8080/"
    },
    "id": "lUrpaOkPKJwY",
    "outputId": "ea21a8d2-a1cf-4d5c-90ea-3bb17c18adfa"
   },
   "outputs": [],
   "source": []
  },
  {
   "cell_type": "markdown",
   "metadata": {
    "id": "ub7mMfS7KKBn"
   },
   "source": [
    "* 사전 자료형은 특정한 데이터의 등장 횟수를 셀 때 효과적으로 사용할 수 있다."
   ]
  },
  {
   "cell_type": "code",
   "execution_count": null,
   "metadata": {
    "colab": {
     "base_uri": "https://localhost:8080/"
    },
    "id": "43BFpkzoKLOB",
    "outputId": "9f4d23ef-7fff-40bd-bff2-b7e3c349f998"
   },
   "outputs": [],
   "source": []
  },
  {
   "cell_type": "markdown",
   "metadata": {
    "id": "VPqbGeimKMXf"
   },
   "source": [
    "#### <b>2) 집합(Set) 자료형</b>\n",
    "\n",
    "* 데이터의 중복을 허용하지 않고, 순서가 상관없을 때 사용하는 자료형이다.\n",
    "* 특정한 데이터가 등장한 적 있는지 체크할 때 효과적으로 사용된다.\n",
    "* 데이터를 삽입할 때는 <b>add() 메서드</b>를 사용한다."
   ]
  },
  {
   "cell_type": "code",
   "execution_count": null,
   "metadata": {
    "colab": {
     "base_uri": "https://localhost:8080/"
    },
    "id": "2xQlBRAMKRdH",
    "outputId": "40c1eae7-b752-4c3c-b2e1-9eb27571e692"
   },
   "outputs": [],
   "source": []
  },
  {
   "cell_type": "markdown",
   "metadata": {
    "id": "cdxUtkQtMvBs"
   },
   "source": [
    "* 집합 자료형은 <b>remove() 메서드</b>를 사용하여 원소를 제거할 수 있다.\n",
    "* 집합 자료형 <b>list() 함수</b>를 이용하여 리스트로 변경할 수 있다."
   ]
  },
  {
   "cell_type": "code",
   "execution_count": null,
   "metadata": {
    "colab": {
     "base_uri": "https://localhost:8080/"
    },
    "id": "LZX2q10oM7gp",
    "outputId": "27b5bf0d-83f0-44f0-8114-858cfb960091"
   },
   "outputs": [],
   "source": []
  },
  {
   "cell_type": "markdown",
   "metadata": {
    "id": "KUZU_QF3NhHD"
   },
   "source": [
    "* 집합 자료형은 다양한 연산자를 제공한다.\n",
    "  * <b>합집합</b> 연산자: |\n",
    "  * <b>교집합</b> 연산자: &\n",
    "  * <b>차집합</b> 연산자: -"
   ]
  },
  {
   "cell_type": "code",
   "execution_count": null,
   "metadata": {
    "colab": {
     "base_uri": "https://localhost:8080/"
    },
    "id": "ouuooRekNsdp",
    "outputId": "17f28a18-095c-4400-8e15-e5ee4fe37e00"
   },
   "outputs": [],
   "source": []
  },
  {
   "cell_type": "markdown",
   "metadata": {
    "id": "RZVFRokfqEkm"
   },
   "source": [
    "### <b>8강 파이썬(Python) 참/거짓 자료형</b>\n",
    "\n",
    "* 일반적인 프로그램에서는 <b>불(bool) 자료형</b>을 많이 사용한다.\n",
    "* 불(bool) 자료형은 <b>참(true)</b>과 <b>거짓(false)</b>을 표현하기 위해 사용한다.\n",
    "  * <b>참(True)</b>: 경우에 따라서 1로 표현하기도 한다.\n",
    "  * <b>거짓(False)</b>: 경우에 따라서 0로 표현하기도 한다."
   ]
  },
  {
   "cell_type": "code",
   "execution_count": null,
   "metadata": {
    "colab": {
     "base_uri": "https://localhost:8080/"
    },
    "id": "2ulwEVIbqTJy",
    "outputId": "6ff3eaba-f45c-492f-e963-8eda03a437e7"
   },
   "outputs": [],
   "source": []
  },
  {
   "cell_type": "markdown",
   "metadata": {
    "id": "rrczw2GSqfaJ"
   },
   "source": [
    "* 파이썬(python) 자료형은 참과 거짓이 나누어진다.\n",
    "  * <b>거짓(False)</b>: 0, 비어있는 리스트/튜플/사전, None 등\n",
    "  * <b>참(True)</b>: 이외에 실제 의미 있는 값들\n",
    "* 실제 예시에 따라서 참(True)과 거짓(False)을 구분하면 다음과 같다.\n",
    "  * 7 → 참(True)\n",
    "  * 1 → 참(True)\n",
    "  * 0 → 거짓(False)\n",
    "  * \"Hello World\" → 참(True)\n",
    "  * \"\" → 거짓(False)\n",
    "  * [1, 2, 3] → 참(True)\n",
    "  * [] → 거짓(False)\n",
    "  * () → 거짓(False)"
   ]
  },
  {
   "cell_type": "code",
   "execution_count": null,
   "metadata": {
    "colab": {
     "base_uri": "https://localhost:8080/"
    },
    "id": "C5wI2NwJOoEx",
    "outputId": "2eed415a-ae23-452d-84d3-eb01e19a4602"
   },
   "outputs": [],
   "source": []
  },
  {
   "cell_type": "markdown",
   "metadata": {
    "id": "dOmcuAiFOnj5"
   },
   "source": [
    "* 프로그램을 작성할 때, <b>불(bool) 자료형</b>은 조건문에서 사용된다."
   ]
  },
  {
   "cell_type": "code",
   "execution_count": null,
   "metadata": {
    "colab": {
     "base_uri": "https://localhost:8080/"
    },
    "id": "2bv0cFk9rA9k",
    "outputId": "f1962232-9863-4b84-ad5d-685b838b89ca"
   },
   "outputs": [],
   "source": []
  },
  {
   "cell_type": "markdown",
   "metadata": {
    "id": "mEXnG-HUrKSi"
   },
   "source": [
    "* 비교 연산자를 사용하면, 그 결과가 참(True) 혹은 거짓(False)으로 반환된다."
   ]
  },
  {
   "cell_type": "code",
   "execution_count": null,
   "metadata": {
    "colab": {
     "base_uri": "https://localhost:8080/"
    },
    "id": "hURiOWgrrC__",
    "outputId": "ac41c5fd-00fd-473f-e51d-174b13cad23f"
   },
   "outputs": [],
   "source": []
  },
  {
   "cell_type": "markdown",
   "metadata": {
    "id": "_sZWGjiorO8b"
   },
   "source": [
    "* 논리 연산자를 사용하면, <b>불(bool) 자료형</b>에 대한 연산이 가능하다.\n",
    "  * <b>x or y</b>: x와 y 중에 하나라도 참일 때 참(True), 아니면 거짓(False)\n",
    "  * <b>x and y</b>: x와 y가 모두 참일 때 참(True), 아니면 거짓(False)\n",
    "  * <b>not x</b>: x가 참일 때 거짓(False), 거짓이면 참(True)\n",
    "  * <b>x in arr</b>: x가 arr 안에 포함될 때 참(True), 아니면 거짓(False)\n",
    "  * <b>x not in arr</b>: x가 arr 안에 포함되지 않을 때 참(True), 아니면 거짓(False)"
   ]
  },
  {
   "cell_type": "code",
   "execution_count": null,
   "metadata": {
    "colab": {
     "base_uri": "https://localhost:8080/"
    },
    "id": "h58csA6hrQiY",
    "outputId": "c0e71f76-c52b-40f6-d8c5-9932ac40896f"
   },
   "outputs": [],
   "source": []
  },
  {
   "cell_type": "markdown",
   "metadata": {
    "id": "l6B8pR1-K7uq"
   },
   "source": [
    "### <b>9강 파이썬(Python) 조건문</b>\n",
    "\n",
    "* 딥러닝 프로그램을 작성할 때 조건에 따라서 데이터를 처리해야 하는 경우가 많다.\n",
    "  * 예를 들어 이미지 해상도가 <b>128px 미만인 경우</b> 학습에 사용하지 않으려면 어떻게 해야 될까?\n",
    "* Python에서는 <b>프로그램을 제어하기 위한 문법</b>으로 조건문과 반복문을 제공한다.\n",
    "* 이때, 조건문은 프로그램 실행의 흐름을 제어한다.\n",
    "\n",
    "<pre>\n",
    "if 조건식:\n",
    "    # 참인 경우 실행할 코드\n",
    "else:\n",
    "    # 거짓인 경우 실행할 코드\n",
    "</pre>"
   ]
  },
  {
   "cell_type": "code",
   "execution_count": null,
   "metadata": {
    "colab": {
     "base_uri": "https://localhost:8080/"
    },
    "id": "oSlVOtkALG8r",
    "outputId": "ed1ae497-c530-4ae4-e15f-3a80112e1854"
   },
   "outputs": [],
   "source": []
  },
  {
   "cell_type": "markdown",
   "metadata": {
    "id": "5qHJkimoLJIB"
   },
   "source": [
    "* 조건문은 <b>if 구문</b>을 이용해 작성한다.\n",
    "    * 조건문 내부에 대하여 띄어쓰기를 4번 사용한다.\n",
    "    * 어떠한 값이 다른 값과 동일한지 구할 때는 등호를 2번 사용해 \"==\"라고 쓴다."
   ]
  },
  {
   "cell_type": "code",
   "execution_count": null,
   "metadata": {
    "colab": {
     "base_uri": "https://localhost:8080/"
    },
    "id": "zA76bzJXLMHR",
    "outputId": "ff74fccf-2c3e-470f-c5b2-ee26c7537b5c"
   },
   "outputs": [],
   "source": []
  },
  {
   "cell_type": "markdown",
   "metadata": {
    "id": "6oPGt7t4LMMw"
   },
   "source": [
    "* if에 해당하지 않는다면 elif가 수행되고, 위쪽에 있는 모든 조건문에 해당하지 않을 때 else 구문이 실행된다.\n",
    "    * 전체 형태는 if ~ elif ~ else 형태로 사용된다.\n",
    "    * 이때 elif나 else는 옵션으로, 없어도 되는 키워드이다."
   ]
  },
  {
   "cell_type": "code",
   "execution_count": null,
   "metadata": {
    "colab": {
     "base_uri": "https://localhost:8080/"
    },
    "id": "p3v-RSZILOBQ",
    "outputId": "0232324d-fc8b-49d5-8652-0913dced308d"
   },
   "outputs": [],
   "source": []
  },
  {
   "cell_type": "markdown",
   "metadata": {
    "id": "wyLBB4KBR_IS"
   },
   "source": [
    "* 나이에 따라서 입장료는 다음과 같다고 해보자.\n",
    "* 1세 이상 ~ 8세 미만: 3,000원\n",
    "* 8세 이상 ~ 19세 미만: 7,000원\n",
    "* 19세 이상 ~ 60세 미만: 12,000원\n",
    "* 60세 이상: 0원"
   ]
  },
  {
   "cell_type": "code",
   "execution_count": null,
   "metadata": {
    "colab": {
     "base_uri": "https://localhost:8080/"
    },
    "id": "fYOD6JQfSAKQ",
    "outputId": "ae36a6fe-012e-4c97-e512-dec548351da8"
   },
   "outputs": [],
   "source": []
  },
  {
   "cell_type": "markdown",
   "metadata": {
    "id": "lqkqh7v-LO7w"
   },
   "source": [
    "### <b>10강 파이썬(Python) 반복문</b>\n",
    "\n",
    "* 프로그램에서 반복적인 작업을 수행해야 할 때, 반복문을 사용한다.\n",
    "* 딥러닝 프로그램을 작성할 때 반복적으로 동일한 작업을 수행해야 하는 경우가 많다.\n",
    "  * 학습할 이미지 100만 개에 대하여, 동일한 데이터 증진(augmentation) 기법을 적용해야 한다면?\n",
    "* 파이썬에서는 <b>for 문법</b>을 사용한다.\n",
    "  * 아래 코드에서는 시퀀스 데이터에 포함된 각 원소를 하나씩 방문하여 처리한다.\n",
    "\n",
    "<pre>\n",
    "for 원소 in 시퀀스 데이터:\n",
    "    원소를 처리하는 코드\n",
    "</pre>"
   ]
  },
  {
   "cell_type": "code",
   "execution_count": null,
   "metadata": {
    "colab": {
     "base_uri": "https://localhost:8080/"
    },
    "id": "7GG-3Ri8LR05",
    "outputId": "939c8411-5e7c-43f9-bf64-df9c50931153"
   },
   "outputs": [],
   "source": []
  },
  {
   "cell_type": "markdown",
   "metadata": {
    "id": "PcHNQ-KNLS1Q"
   },
   "source": [
    "* <b>for 문법</b>은 어떠한 시퀀스의 원소에 차례대로 접근한다는 점에서 <b>range()</b>와 함께 사용할 수 있다.\n",
    "    * range(start, end) 형태가 가장 많이 사용된다.\n",
    "* for문과 range() 함수를 배웠기 때문에, 다양한 프로그램을 작성할 수 있다.\n",
    "* 1부터 50까지의 수를 더한 값을 계산해 보자."
   ]
  },
  {
   "cell_type": "code",
   "execution_count": null,
   "metadata": {
    "colab": {
     "base_uri": "https://localhost:8080/"
    },
    "id": "NQP9Ri3dLUTd",
    "outputId": "688320b0-5dc2-46f9-a0e9-d3b6a6180f39"
   },
   "outputs": [],
   "source": []
  },
  {
   "cell_type": "markdown",
   "metadata": {
    "id": "Oi0Hnl4kLVIY"
   },
   "source": [
    "* 1부터 50까지의 수 중에서 10의 배수만 더하는 프로그램을 작성할 수 있다."
   ]
  },
  {
   "cell_type": "code",
   "execution_count": null,
   "metadata": {
    "colab": {
     "base_uri": "https://localhost:8080/"
    },
    "id": "Ool3-tTeLV9Z",
    "outputId": "4b715b01-460c-41d4-d0b5-fcd46f1976da"
   },
   "outputs": [],
   "source": []
  },
  {
   "cell_type": "markdown",
   "metadata": {
    "id": "sbsNH7a3LXQ5"
   },
   "source": [
    "* enumerate() 함수를 사용하면 인덱스와 함께 반복할 수 있다."
   ]
  },
  {
   "cell_type": "code",
   "execution_count": null,
   "metadata": {
    "colab": {
     "base_uri": "https://localhost:8080/"
    },
    "id": "aKtsJKy0LYHJ",
    "outputId": "b70774ff-a481-4207-e711-e9e5dcb0c341"
   },
   "outputs": [],
   "source": []
  },
  {
   "cell_type": "markdown",
   "metadata": {
    "id": "2sgpyIvJLY9A"
   },
   "source": [
    "* 반복문을 중첩해서 사용할 수도 있다.\n",
    "    * 구구단 예제를 확인해 보자."
   ]
  },
  {
   "cell_type": "code",
   "execution_count": null,
   "metadata": {
    "colab": {
     "base_uri": "https://localhost:8080/"
    },
    "id": "ieARhrsdLZs7",
    "outputId": "5fe0b72f-e9a4-443d-f586-6b8285564fba"
   },
   "outputs": [],
   "source": []
  },
  {
   "cell_type": "markdown",
   "metadata": {
    "id": "PaG9u_FIR54K"
   },
   "source": [
    "* <b>369 게임</b> 시뮬레이션 코드를 작성하고자 한다.\n",
    "* 1부터 100까지의 수에 대하여 <b>박수를 치는 총 횟수</b>를 구할 수 있다."
   ]
  },
  {
   "cell_type": "code",
   "execution_count": null,
   "metadata": {
    "colab": {
     "base_uri": "https://localhost:8080/"
    },
    "id": "4tiFCuTnR6Vn",
    "outputId": "1094bae8-52bf-4348-d4c3-909c4fd8f5af"
   },
   "outputs": [],
   "source": []
  },
  {
   "cell_type": "markdown",
   "metadata": {
    "id": "pBo78sD8LZ-Z"
   },
   "source": [
    "* 1부터 N까지의 수 중에서 소수를 찾는 프로그램을 작성할 수 있다.\n",
    "    * 소수가 아닌 경우, 어떤 수의 배수인지 출력한 뒤에 해당 수에 대한 반복문을 탈출한다.\n",
    "    * break 구문은 해당 break 구문을 포함하는 반복문을 탈출한다."
   ]
  },
  {
   "cell_type": "code",
   "execution_count": null,
   "metadata": {
    "colab": {
     "base_uri": "https://localhost:8080/"
    },
    "id": "Oqo-jKHQLbB0",
    "outputId": "44ecd4cf-4b02-42c9-c1af-7cbc9eb9d5aa"
   },
   "outputs": [],
   "source": []
  },
  {
   "cell_type": "markdown",
   "metadata": {
    "id": "yE_LSL_k7Wtn"
   },
   "source": [
    "### <b>11강 파이썬(Python) 파일 입출력</b>\n",
    "\n",
    "* 일반적으로 <b>표준 입출력</b>을 사용하는 프로그램은 키보드(입력 장치)로부터 입력을 받아 모니터(출력 장치)로 결과를 내보낸다.\n",
    "* 프로그램이 종료된 이후에도 데이터를 저장하기 위해서 <b>파일 입출력</b>을 사용할 수 있다.\n",
    "* 파일 객체를 만들 때는 <b>open()</b>, 파일 객체를 닫을 때는 <b>close()</b> 함수를 사용한다.\n",
    "\n",
    "<pre>\n",
    "f = open(\"example.txt\", \"w\")\n",
    "f.close()\n",
    "</pre>"
   ]
  },
  {
   "cell_type": "markdown",
   "metadata": {
    "id": "gzsET1Ur7sq4"
   },
   "source": [
    "* 파이썬에서는 여러 가지 파일 모드(mode)를 제공한다.\n",
    "  * r: <b>읽기(read)</b> 모드(파일 읽기)\n",
    "  * w: <b>쓰기(write)</b> 모드(파일에 내용을 쓰기)\n",
    "  * a: <b>추가(append)</b> 모드(파일의 마지막에 새로운 내용 추가)"
   ]
  },
  {
   "cell_type": "markdown",
   "metadata": {
    "id": "hcKIh0eX8JjX"
   },
   "source": [
    "#### <b>1) 파일 출력</b>\n",
    "\n",
    "* 파일에 데이터를 쓸 때는 <b>write() 함수</b>를 사용할 수 있다.\n",
    "* 줄바꿈 기호(\\n)을 사용하여, 줄을 변경할 수 있다.\n",
    "* 여러 줄에 걸쳐서 파일에 데이터를 작성할 수 있다."
   ]
  },
  {
   "cell_type": "code",
   "execution_count": null,
   "metadata": {
    "id": "IuFbDSZ88Bjv"
   },
   "outputs": [],
   "source": []
  },
  {
   "cell_type": "markdown",
   "metadata": {
    "id": "NwXBjsa383S_"
   },
   "source": [
    "#### <b>2) 파일 읽기</b>\n",
    "\n",
    "* <b>readline() 함수</b>를 이용하면 파일의 데이터를 한 줄씩 읽을 수 있다.\n",
    "* 각 줄을 출력할 때 줄의 마지막에 줄바꿈 기호(\\n)도 함께 포함된다.\n",
    "  * strip() 함수를 사용하지 않으면, 두 줄씩 줄바꿈이 수행된다."
   ]
  },
  {
   "cell_type": "code",
   "execution_count": null,
   "metadata": {
    "colab": {
     "base_uri": "https://localhost:8080/"
    },
    "id": "ZbtdQmWA84EW",
    "outputId": "ffe9aae2-8f2d-4c95-f79f-abf8bfe6f627"
   },
   "outputs": [],
   "source": []
  },
  {
   "cell_type": "markdown",
   "metadata": {
    "id": "trPr1RX-8NOH"
   },
   "source": [
    "* 파일의 모든 줄을 한꺼번에 읽을 때는 <b>readlines() 함수</b>를 사용할 수 있다.\n",
    "* readlines() 함수는 기본적으로 각 줄을 그대로 읽기 때문에 줄바꿈 기호(\\n)가 포함된다.\n",
    "* 줄바꿈 기호를 제거하기 위해 <b>strip()</b>을 사용할 수 있다.\n",
    "  * strip() 함수를 사용하지 않으면, 두 줄씩 줄바꿈이 수행된다."
   ]
  },
  {
   "cell_type": "code",
   "execution_count": null,
   "metadata": {
    "colab": {
     "base_uri": "https://localhost:8080/"
    },
    "id": "YVJj3l5g8OWH",
    "outputId": "e810c023-7c56-45dc-bfe4-7419b0127f0c"
   },
   "outputs": [],
   "source": []
  },
  {
   "cell_type": "markdown",
   "metadata": {
    "id": "1_V-eGdU9EfQ"
   },
   "source": [
    "* <b>read() 함수</b>를 사용하면 파일의 전체 내용을 하나의 문자열로 반환한다."
   ]
  },
  {
   "cell_type": "code",
   "execution_count": null,
   "metadata": {
    "colab": {
     "base_uri": "https://localhost:8080/"
    },
    "id": "TJmHQZXd9HAw",
    "outputId": "5f036cbf-ebb8-4c84-cbc5-4197144e35a0"
   },
   "outputs": [],
   "source": []
  },
  {
   "cell_type": "markdown",
   "metadata": {
    "id": "HO_qE7cd9O6z"
   },
   "source": [
    "#### <b>3) 파일 객체 자동으로 열고 닫기</b>\n",
    "\n",
    "* 다음의 문법을 활용하여 파일 객체를 자동으로 열고 닫을 수 있다.\n",
    "* <b>open() 함수</b>와 <b>close() 함수</b>의 기능이 함께 사용된다.\n",
    "* 다음과 같은 형식을 따른다.\n",
    "\n",
    "<pre>\n",
    "with open(파일 이름, 파일 열기 모드) as f:\n",
    "    파일 객체 f를 이용하는 코드\n",
    "</pre>"
   ]
  },
  {
   "cell_type": "code",
   "execution_count": null,
   "metadata": {
    "id": "SP2jGcOh95lx"
   },
   "outputs": [],
   "source": []
  },
  {
   "cell_type": "markdown",
   "metadata": {
    "id": "9O8cBEjwLcVZ"
   },
   "source": [
    "### <b>12강 파이썬(Python) 함수의 이해와 활용</b>\n",
    "\n",
    "* 전체 소스코드를 기능별로 분리하여 작성하는 것이 효율적이다.\n",
    "* <b>함수</b>를 이용해 소스 코드를 기능별로 분리할 수 있다.\n",
    "    * 각 부품(함수)이 서로 조화를 이루어 하나의 완성된 프로그램을 만들 수 있다.\n",
    "* 함수는 <b>def 구문</b>을 이용하여 작성할 수 있다.\n",
    "* 세 개의 수를 입력받아 더한 결과를 반환하는 함수를 작성해 보자."
   ]
  },
  {
   "cell_type": "code",
   "execution_count": null,
   "metadata": {
    "colab": {
     "base_uri": "https://localhost:8080/"
    },
    "id": "r5JLY1p6LddD",
    "outputId": "48c4e90b-ce8e-4962-81e0-4a63590866f7"
   },
   "outputs": [],
   "source": []
  },
  {
   "cell_type": "code",
   "execution_count": null,
   "metadata": {
    "colab": {
     "base_uri": "https://localhost:8080/"
    },
    "id": "UiyEUQUULfP4",
    "outputId": "503cdb61-93e4-4be9-9963-aa80fc2ef3fa"
   },
   "outputs": [],
   "source": []
  },
  {
   "cell_type": "markdown",
   "metadata": {
    "id": "dWNSMY3ZLeyx"
   },
   "source": [
    "* 리스트 내 원소 중에서 가장 큰 값의 인덱스(위치)를 찾아서 반환하는 함수를 작성해 보자."
   ]
  },
  {
   "cell_type": "code",
   "execution_count": null,
   "metadata": {
    "colab": {
     "base_uri": "https://localhost:8080/"
    },
    "id": "RM8AMXsRLiCQ",
    "outputId": "54942fed-a9bf-4640-d6ea-d38406165d53"
   },
   "outputs": [],
   "source": []
  },
  {
   "cell_type": "markdown",
   "metadata": {
    "id": "1ixFP9gMLi4B"
   },
   "source": [
    "* 특정한 값을 가지는 원소의 인덱스를 찾는 함수를 작성해 보자."
   ]
  },
  {
   "cell_type": "code",
   "execution_count": null,
   "metadata": {
    "colab": {
     "base_uri": "https://localhost:8080/"
    },
    "id": "a8pIZireLjuB",
    "outputId": "aa85f990-5a3d-4036-b5d9-460b0f1f4171"
   },
   "outputs": [],
   "source": []
  },
  {
   "cell_type": "markdown",
   "metadata": {
    "id": "PkuORZ2FUdDm"
   },
   "source": [
    "* 하나의 자연수가 주어졌을 때, 소수인지 아닌지 판별하는 함수를 작성해 보자."
   ]
  },
  {
   "cell_type": "code",
   "execution_count": null,
   "metadata": {
    "colab": {
     "base_uri": "https://localhost:8080/"
    },
    "id": "s3qLcvB-UbTt",
    "outputId": "1f0d3131-bd54-4848-a827-8148e8097807"
   },
   "outputs": [],
   "source": []
  },
  {
   "cell_type": "markdown",
   "metadata": {
    "id": "eM6m2Bup_iqv"
   },
   "source": [
    "### <b>13강 파이썬(Python) 클래스의 이해와 활용</b>\n",
    "\n",
    "* 클래스는 딥러닝 프로그램을 작성할 때 자주 사용된다.\n",
    "  * <b>클래스</b>: 붕어빵 틀에 비유할 수 있다.\n",
    "  * <b>인스턴스</b>: 붕어빵 틀에서 생성된 붕어빵에 비유할 수 있다.\n",
    "* 간단히 사람(human)에 대한 정보를 담는 사람 클래스를 정의해 보자.\n",
    "* 프로그램 내에서 <b>두 명의 사람</b>을 처리한다면?\n",
    "  * 각 사람은 나이(age)가 다를 수 있다.\n",
    "* 일단 아래의 코드를 확인하고, 클래스의 기본적인 사용 방법을 이해해 보자."
   ]
  },
  {
   "cell_type": "code",
   "execution_count": null,
   "metadata": {
    "colab": {
     "base_uri": "https://localhost:8080/"
    },
    "id": "nrAxzO7OAVhw",
    "outputId": "af5c907f-0f42-4ab6-f16f-4c08e0d0226e"
   },
   "outputs": [],
   "source": []
  },
  {
   "cell_type": "markdown",
   "metadata": {
    "id": "_DqWY62CAZ6G"
   },
   "source": [
    "* 클래스(class)는 여러 정보를 하나의 객체에 담을 때 사용할 수 있다.\n",
    "* 학생 관리 프로그램을 만들 때, 학생에 대한 정보는 다양하다.\n",
    "  * ① 학번, ② 이름, ③ 나이, ④ 성별, ⑤ 학과\n",
    "* 학생 <b>인스턴스</b>를 생성함과 동시에 정보를 초기화할 수 있다.\n",
    "  * <b>생성자</b>: 인스턴스가 생성될 때 자동으로 실행되는 __init__() 메서드를 의미한다.\n",
    "* <b>self</b>는 인스턴스(instance) <b>자기 자신</b>을 의미한다.\n",
    "* 해당 인스턴스가 가지는 값과 함수의 인자 값을 구분하여 이해해야 한다.\n",
    "* <b>__init__() 함수</b> 내부를 고려해 보자.\n",
    "  * <b>self.name</b>: 현재 인스턴스의 name 변수\n",
    "  * <b>name</b>: 함수의 파라미터로 넘어 온 name 변수"
   ]
  },
  {
   "cell_type": "code",
   "execution_count": null,
   "metadata": {
    "colab": {
     "base_uri": "https://localhost:8080/"
    },
    "id": "nac0yBhwA13v",
    "outputId": "f23d0cbf-89b0-497a-8723-e4dc8cc2b1e4"
   },
   "outputs": [],
   "source": []
  },
  {
   "cell_type": "markdown",
   "metadata": {
    "id": "Trga024vA6NZ"
   },
   "source": [
    "* <b>self</b>의 동작 방식에 대하여 바르게 이해할 필요가 있다.\n",
    "* 우리는 아래와 같이 클래스의 메서드를 호출한다.\n",
    "* 클래스의 <b>메서드 호출</b>\n",
    "\n",
    "<pre>\n",
    "student1.add_age(5)\n",
    "</pre>\n",
    "\n",
    "* 이때 student1 → self에 대응되고, 값 5 → offset에 대응된다.\n",
    "* 클래스 <b>메서드 구현</b>\n",
    "\n",
    "<pre>\n",
    "def add_age(self, offset):\n",
    "    self.age += offset\n",
    "</pre>"
   ]
  },
  {
   "cell_type": "code",
   "execution_count": null,
   "metadata": {
    "colab": {
     "base_uri": "https://localhost:8080/"
    },
    "id": "Gt2_U7pDA_Cv",
    "outputId": "5a929fe5-b685-45c3-8951-84cecf52f812"
   },
   "outputs": [],
   "source": []
  },
  {
   "cell_type": "markdown",
   "metadata": {
    "id": "Rzyba1qyBUFw"
   },
   "source": [
    "* 각 인스턴스의 인스턴스 변수는 서로 다르다.\n",
    "* 특정한 클래스(class)의 <b>모든 인스턴스끼리 공유되는 정보</b>가 필요하다면?\n",
    "* <b>클래스 변수</b>: 해당 클래스에서 전체적으로 공유되는 변수\n",
    "  * Client의 클래스 변수는 Client 클래스의 네임스페이스에 존재한다.\n",
    "* <b>인스턴스 변수</b>: 구체적인 하나의 인스턴스에서 사용되는 변수\n",
    "  * client1의 인스턴스 변수는 client1 인스턴스의 네임스페이스에 존재한다."
   ]
  },
  {
   "cell_type": "code",
   "execution_count": null,
   "metadata": {
    "colab": {
     "base_uri": "https://localhost:8080/"
    },
    "id": "q4KSfdTpBWUo",
    "outputId": "dd303446-83f2-4102-ffc1-64a886c84af5"
   },
   "outputs": [],
   "source": []
  },
  {
   "cell_type": "markdown",
   "metadata": {
    "id": "n4cjSuQIBuB4"
   },
   "source": [
    "* 특정한 기준에 따라서 <b>다수의 인스턴스를 정렬</b>하고 싶을 때가 있다.\n",
    "* 예를 들어 포인트 값이 큰 순서대로 정렬하려면 어떻게 하면 될까?\n",
    "* 간단히 다음과 같이 <b>key 속성</b>의 값으로 익명 함수를 넣을 수 있다.\n",
    "  * 이후에 뒤집기(reverse)를 수행하면, point에 대하여 <b>내림차순 정렬</b>이 완료된다.\n",
    "\n",
    "<pre>\n",
    "key=lambda x: x.point\n",
    "</pre>\n",
    "\n",
    "* 또한 <b>lt 함수</b>는 A가 B보다 작다는 의미를 정의할 때 사용한다. (less than)\n",
    "  * <b>lt 함수</b>를 이용하여 정렬 기능을 구현할 수 있으며, 예시는 다음과 같다.\n",
    "  * 이후에 단순히 리스트에 대하여 <b>sort() 함수</b>를 적용하면, 정렬이 완료된다.\n",
    "\n",
    "<pre>\n",
    "def __lt__(self, other):\n",
    "         return self.point < other.point\n",
    "</pre>"
   ]
  },
  {
   "cell_type": "code",
   "execution_count": null,
   "metadata": {
    "colab": {
     "base_uri": "https://localhost:8080/"
    },
    "id": "rce3lZawCNbP",
    "outputId": "4dddfeb5-38ca-4bbd-f7de-438d183671fd"
   },
   "outputs": [],
   "source": []
  },
  {
   "cell_type": "code",
   "execution_count": null,
   "metadata": {
    "colab": {
     "base_uri": "https://localhost:8080/"
    },
    "id": "kaJjGfXoCHi4",
    "outputId": "68357fb4-8b5e-4165-94f7-afce9f8c8f94"
   },
   "outputs": [],
   "source": []
  },
  {
   "cell_type": "code",
   "execution_count": null,
   "metadata": {
    "colab": {
     "base_uri": "https://localhost:8080/"
    },
    "id": "9D4VB7ayCWYw",
    "outputId": "6ecbaf03-f92d-4f91-fce4-67ff13cc416f"
   },
   "outputs": [],
   "source": []
  },
  {
   "cell_type": "markdown",
   "metadata": {
    "id": "Ib7DkGccCcU3"
   },
   "source": [
    "* 클래스의 <b>상속(inheritance)</b>은 체계적인 프로그램 개발을 위해 필요하다.\n",
    "* 예를 들어 학교 관리 프로그램에서는 선생님(teacher)과 학생(student)에 대한 정보가 모두 활용된다.\n",
    "  * 이들은 <b>공통적으로</b> 이름(name), 나이(age) 등의 정보를 가지고 있다.\n",
    "  * 또한, 인적사항 정보를 출력하는 메서드를 둘 다 사용한다.\n",
    "* 상속을 사용하여, 공통적으로 사용되는 변수를 매번 선언하지 않는다."
   ]
  },
  {
   "cell_type": "code",
   "execution_count": null,
   "metadata": {
    "id": "-4VR6R1wChb3"
   },
   "outputs": [],
   "source": []
  },
  {
   "cell_type": "markdown",
   "metadata": {
    "id": "BZld_332CiSn"
   },
   "source": [
    "* 교사 클래스가 사람 클래스에 대한 정보를 상속 받기 위해서는\n",
    "상속을 진행해야 한다.\n",
    "* 기본적인 형식은 바로 다음과 같다.\n",
    "\n",
    "<pre>\n",
    "class 자식 클래스 이름(부모 클래스 이름):\n",
    "    pass\n",
    "</pre>"
   ]
  },
  {
   "cell_type": "markdown",
   "metadata": {
    "id": "9EQE7cMPCnyw"
   },
   "source": [
    "* <b>super()</b>는 부모 클래스의 속성 및 메서드를 가져와야 할 때 사용할 수 있다.\n",
    "* <b>super.__init__() 메서드</b>를 호출하면, 이것은 부모 클래스에서 정의되어 있던 생성자를 사용한다는 의미다."
   ]
  },
  {
   "cell_type": "code",
   "execution_count": null,
   "metadata": {
    "colab": {
     "base_uri": "https://localhost:8080/"
    },
    "id": "tH5M5takCs_Q",
    "outputId": "02248331-3577-42e0-cd26-a2e06a253e92"
   },
   "outputs": [],
   "source": []
  },
  {
   "cell_type": "code",
   "execution_count": null,
   "metadata": {
    "colab": {
     "base_uri": "https://localhost:8080/"
    },
    "id": "iD7DW2kYZXZl",
    "outputId": "1790ddec-4060-4581-859f-76d8dc3a9e0d"
   },
   "outputs": [],
   "source": []
  },
  {
   "cell_type": "markdown",
   "metadata": {
    "id": "ThkNtvufC_uR"
   },
   "source": [
    "* 실제로 딥러닝 분야에서 <b>TensorFlow</b>와 <b>PyTorch</b> 프레임워크를 사용할 때는 다양한 클래스를 <b>상속</b> 받아 사용할 수 있다.\n",
    "* 따라서, 다양한 딥러닝 모델을 정의하고 학습을 진행하기 위해 클래스(class)에 대한 개념 숙지가 필수적이다.\n",
    "* 다양한 기능이 라이브러리 형태(클래스 형태)로 제공되기 때문에, 상속을 받아 사용하는 것이 일반적이다.\n",
    "  * 일반적으로 기본 라이브러리의 코드(부모 클래스)를 직접적으로 수정하지 않는다.\n",
    "  * 우리가 만들 딥러닝 프로그램에 맞게 적절히 상속 받아 사용한다."
   ]
  },
  {
   "cell_type": "markdown",
   "metadata": {
    "id": "6n-S8T9OIjtn"
   },
   "source": [
    "### <b>14강 파이썬(Python) 예외 처리</b>\n",
    "\n",
    "* 예외(exception)란, 코드 실행 도중에 발생하는 오류(error)로 이해할 수 있다.\n",
    "* 예를 들어 0으로 나누는 연산은 수행 불가능하다.\n",
    "  * <b>ZeroDivisionError</b>: 0으로 나누었을 때 발생하는 오류"
   ]
  },
  {
   "cell_type": "code",
   "execution_count": null,
   "metadata": {
    "id": "jgxY7Lckb0Ld"
   },
   "outputs": [],
   "source": []
  },
  {
   "cell_type": "markdown",
   "metadata": {
    "id": "5oeSBpDcb389"
   },
   "source": [
    "* 예외에는 다양한 종류가 있다.\n",
    "* 존재하지 않는 <b>인덱스(index)</b>에 접근할 때 오류가 발생한다."
   ]
  },
  {
   "cell_type": "code",
   "execution_count": null,
   "metadata": {
    "id": "UJVP118yb07C"
   },
   "outputs": [],
   "source": []
  },
  {
   "cell_type": "markdown",
   "metadata": {
    "id": "UVKAjto6b9zN"
   },
   "source": [
    "* 기본적으로 예외가 발생하면, 프로그램 실행이 중단된다.\n",
    "* <b>예외 처리</b>란, 프로그램의 예외를 처리하는 것을 말한다.\n",
    "  * 예외가 발생하더라도, 프로그램이 종료되지 않도록 처리할 수 있다.\n",
    "* 예외 처리의 기본적인 형태는 다음과 같다.\n",
    "\n",
    "<pre>\n",
    "try:\n",
    "    기본적으로 실행할 코드\n",
    "except:\n",
    "    예외가 발생했을 때 실행할 코드\n",
    "</pre>\n",
    "\n",
    "* 앞서 0으로 나눌 때 발생하는 예외를 처리할 수 있다.\n",
    "* 예외가 발생하는 순간, 코드 실행이 중단되며, except 블록으로 이동하여 코드를 실행한다.\n",
    "* 아래 예시에서는 print() 구문이 실행되지 않는다."
   ]
  },
  {
   "cell_type": "code",
   "execution_count": null,
   "metadata": {
    "colab": {
     "base_uri": "https://localhost:8080/"
    },
    "id": "HBcbKlpKb7lG",
    "outputId": "5667c535-71ae-435b-f5a3-a3f41fd05c3d"
   },
   "outputs": [],
   "source": []
  },
  {
   "cell_type": "markdown",
   "metadata": {
    "id": "2g-VQLq7cM6s"
   },
   "source": [
    "* 모든 오류에 대하여 처리하는 것이 아니라, <b>특정한 오류를 처리</b>할 수 있다.\n",
    "* 다음과 같이 원하는 <b>예외 이름</b>에 대하여 처리할 수 있다.\n",
    "\n",
    "<pre>\n",
    "try:\n",
    "    기본적으로 실행할 코드\n",
    "except 예외명:\n",
    "    예외가 발생했을 때 실행할 코드\n",
    "</pre>\n",
    "\n",
    "* <b>구체적인 예외(exception)</b> 오류 메시지를 출력해 보자.\n",
    "* 예외가 발생했을 때, except 구문에서 구체적인 오류 메시지를 처리할 수 있다."
   ]
  },
  {
   "cell_type": "code",
   "execution_count": null,
   "metadata": {
    "colab": {
     "base_uri": "https://localhost:8080/"
    },
    "id": "SUQSfx6-cLXn",
    "outputId": "6c42f33a-1515-4c41-a51c-e649f145fdd3"
   },
   "outputs": [],
   "source": []
  },
  {
   "cell_type": "markdown",
   "metadata": {
    "id": "9HtC3MZ3clxu"
   },
   "source": [
    "* 특정한 인덱스의 원소를 $x$로 나눈 결과를 출력하고자 한다.\n",
    "  * 실제로 존재하지 않는 데이터에 접근하려고 하면 오류가 발생한다.\n",
    "  * 0으로 나누려고 하면 오류가 발생한다."
   ]
  },
  {
   "cell_type": "code",
   "execution_count": null,
   "metadata": {
    "colab": {
     "base_uri": "https://localhost:8080/"
    },
    "id": "nTFpfvB2cZAR",
    "outputId": "4f368b78-8506-45a2-c29f-7e536caa6fdc"
   },
   "outputs": [],
   "source": []
  },
  {
   "cell_type": "markdown",
   "metadata": {
    "id": "7TqQsLeyc2ue"
   },
   "source": [
    "* 딥러닝 프로그램을 작성할 때 다양한 예외가 발생할 수 있다.\n",
    "* 특히 입력과 출력의 <b>차원(dimension)이 일치하지 않아서</b> 딥러닝 모델 연산 수행 과정에서 오류가 발생할 수 있다.\n",
    "* 존재하지 않거나, 잘못된 데이터를 불러오려고 할 때 오류가 발생할 수 있다."
   ]
  }
 ],
 "metadata": {
  "colab": {
   "provenance": []
  },
  "kernelspec": {
   "display_name": "Python 3 (ipykernel)",
   "language": "python",
   "name": "python3"
  },
  "language_info": {
   "codemirror_mode": {
    "name": "ipython",
    "version": 3
   },
   "file_extension": ".py",
   "mimetype": "text/x-python",
   "name": "python",
   "nbconvert_exporter": "python",
   "pygments_lexer": "ipython3",
   "version": "3.9.13"
  }
 },
 "nbformat": 4,
 "nbformat_minor": 1
}
